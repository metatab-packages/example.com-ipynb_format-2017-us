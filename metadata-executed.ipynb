{
 "cells": [
  {
   "cell_type": "code",
   "execution_count": 1,
   "metadata": {
    "": true,
    "prolog": true
   },
   "outputs": [],
   "source": [
    "#2020-06-14 16:04:48.105032\n",
    "%load_ext metapack_jupyter.magic"
   ]
  },
  {
   "cell_type": "code",
   "execution_count": 2,
   "metadata": {
    "": true,
    "prolog": true
   },
   "outputs": [],
   "source": [
    "CACHE_DIR='/Users/eric/Library/Application Support/metapack/'\n",
    "RESOURCE_NAME='df'\n",
    "RESOLVED_URL='file:///Users/eric/proj/data-projects/metatab-packages/example-collection/staging/example-ipynb/metadata.ipynb#df'\n",
    "WORKING_DIR='/Users/eric/proj/data-projects/metatab-packages/example-collection/staging/example-ipynb'\n",
    "METATAB_DOC='metapack+file:///Users/eric/proj/data-projects/metatab-packages/example-collection/staging/example-ipynb/metadata.ipynb'\n",
    "METATAB_WORKING_DIR='/Users/eric/proj/data-projects/metatab-packages/example-collection/staging/example-ipynb'\n",
    "METATAB_PACKAGE='metapack+file:///Users/eric/proj/data-projects/metatab-packages/example-collection/staging/example-ipynb/'"
   ]
  },
  {
   "cell_type": "code",
   "execution_count": 3,
   "metadata": {
    "": true,
    "prolog": true
   },
   "outputs": [],
   "source": [
    "METAPACK_BUILDING=True"
   ]
  },
  {
   "cell_type": "markdown",
   "metadata": {
    "tags": [
     "Title"
    ]
   },
   "source": [
    "# A Metatab Example Data Package"
   ]
  },
  {
   "cell_type": "markdown",
   "metadata": {
    "tags": [
     "Description"
    ]
   },
   "source": [
    "An example data package, from the Metatab tutorial at https://github.com/CivicKnowledge/metatab-py/blob/master/README.rst"
   ]
  },
  {
   "cell_type": "raw",
   "metadata": {
    "tags": [
     "metadata"
    ]
   },
   "source": [
    "Name: example_data_package-2017-us-1\n",
    "Dataset: example-data-package\n",
    "Version: 1\n",
    "Space: US\n",
    "Time: 2017\n",
    "Spatialgrain: None\n",
    "Giturl: https://github.com/Metatab/metatab-packages.git\n",
    "Identifier: e7466d89-9156-4df6-a171-3102b04ae583\n",
    "\n",
    "Section: Documentation|Title|Description\n",
    "Homepage: http://metatab.org\n",
    "    .Title: Metatab Home Page\n",
    "    .Description: Main Metatab home page\n",
    "Documentation: https://github.com/CivicKnowledge/metatab-py/blob/master/README.rst\n",
    "    .Title: Metatab Python Package README\n",
    "    .Description: The README in the Metatab Githup repo contains the tutorial for generating this package.\n",
    "\n",
    "Section: Contacts|email\n",
    "Origin: example.com\n",
    "Creator: Eric Busboom\n",
    "    .Email: eric@civicknowledge. com\n",
    "Wrangler: Eric Busboom\n",
    "    .Email: eric@civicknowledge. com\n",
    "\n",
    "Section: Notes\n",
    "Note: None"
   ]
  },
  {
   "cell_type": "raw",
   "metadata": {
    "tags": [
     "resources"
    ]
   },
   "source": [
    "Section: Resources|Name|StartLine|HeaderLines|Encoding|Description\n",
    "Datafile: http://public.source.civicknowledge.com/example.com/sources/test_data.zip#test_data%2Fcsv%2Fsimple-example.csv\n",
    "    .Name: simple-example\n",
    "    .Description: Random UUIDs, integers and numbers\n",
    "Datafile: metadata.ipynb#df\n",
    "    .Name: df\n",
    "    .Description: Random UUIDs, integers and numbers\n",
    "Datafile: metadata.ipynb#df2\n",
    "    .Name: df2\n",
    "    .Description: Random UUIDs, integers and numbers, copy2\n",
    "Datafile: metadata.ipynb#df3\n",
    "    .Name: df3\n",
    "    .Description: Random UUIDs, integers and numbers, copy3"
   ]
  },
  {
   "cell_type": "code",
   "execution_count": 4,
   "metadata": {},
   "outputs": [
    {
     "name": "stdout",
     "output_type": "stream",
     "text": [
      "The metapack_jupyter.magic extension is already loaded. To reload it, use:\n",
      "  %reload_ext metapack_jupyter.magic\n"
     ]
    }
   ],
   "source": [
    "import seaborn as sns\n",
    "import metapack as mp\n",
    "import pandas as pd\n",
    "import numpy as np\n",
    "import matplotlib.pyplot as plt\n",
    "from IPython.display import display \n",
    "\n",
    "%matplotlib inline\n",
    "%load_ext metapack_jupyter.magic\n",
    "sns.set_context('notebook')\n",
    "mp.jupyter.init()\n"
   ]
  },
  {
   "cell_type": "code",
   "execution_count": 5,
   "metadata": {},
   "outputs": [],
   "source": [
    "# Code goes after metadata, before schema\n",
    "\n",
    "df = pd.DataFrame({\n",
    "    'rand': np.random.randint(0,100,1000)\n",
    "})\n",
    "df2 = df.copy()\n",
    "df3 = df.copy()"
   ]
  },
  {
   "cell_type": "raw",
   "metadata": {
    "tags": [
     "schema"
    ]
   },
   "source": [
    "Section: Schema|AltName|DataType|Description|Datatype\n",
    "Table: simple-example\n",
    "Table.Column: id\n",
    "    .Datatype: integer\n",
    "Table.Column: uuid\n",
    "    .Datatype: string\n",
    "Table.Column: int\n",
    "    .Datatype: integer\n",
    "Table.Column: float\n",
    "    .Datatype: number\n",
    "Table: df\n",
    "Table.Column: rand\n",
    "    .Datatype: integer\n",
    "Table: df2\n",
    "Table.Column: rand\n",
    "    .Datatype: integer\n",
    "Table: df3\n",
    "Table.Column: rand\n",
    "    .Datatype: integer"
   ]
  },
  {
   "cell_type": "code",
   "execution_count": null,
   "metadata": {},
   "outputs": [],
   "source": []
  },
  {
   "cell_type": "code",
   "execution_count": 6,
   "metadata": {
    "epilog": true,
    "mt_dataframes": true
   },
   "outputs": [
    {
     "name": "stdout",
     "output_type": "stream",
     "text": [
      "{\n",
      "    \"df_name\": \"df\",\n",
      "    \"path\": \"/Users/eric/Library/Application Support/metapack/_materialized_data/example_data_package-2017-us-1/df.csv\"\n",
      "}\n",
      "{\n",
      "    \"df_name\": \"df2\",\n",
      "    \"path\": \"/Users/eric/Library/Application Support/metapack/_materialized_data/example_data_package-2017-us-1/df2.csv\"\n",
      "}\n",
      "{\n",
      "    \"df_name\": \"df3\",\n",
      "    \"path\": \"/Users/eric/Library/Application Support/metapack/_materialized_data/example_data_package-2017-us-1/df3.csv\"\n",
      "}\n"
     ]
    }
   ],
   "source": [
    "%mt_materialize df '/Users/eric/Library/Application Support/metapack/_materialized_data/example_data_package-2017-us-1' \n",
    "%mt_materialize df2 '/Users/eric/Library/Application Support/metapack/_materialized_data/example_data_package-2017-us-1' \n",
    "%mt_materialize df3 '/Users/eric/Library/Application Support/metapack/_materialized_data/example_data_package-2017-us-1' "
   ]
  },
  {
   "cell_type": "code",
   "execution_count": 7,
   "metadata": {
    "epilog": true,
    "mt_materialize": true
   },
   "outputs": [
    {
     "name": "stdout",
     "output_type": "stream",
     "text": [
      "[]\n"
     ]
    }
   ],
   "source": [
    "\n",
    "%mt_materialize_all '/Users/eric/Library/Application Support/metapack/_materialized_data/example_data_package-2017-us-1'\n"
   ]
  },
  {
   "cell_type": "code",
   "execution_count": 8,
   "metadata": {
    "epilog": true,
    "mt_final_metatab": true
   },
   "outputs": [
    {
     "name": "stdout",
     "output_type": "stream",
     "text": [
      "Declare: metatab-latest\n",
      "Section: Resources|Name|Title|Description|StartLine|HeaderLines|Encoding\n"
     ]
    }
   ],
   "source": [
    "\n",
    "%mt_show_metatab\n",
    "\n"
   ]
  },
  {
   "cell_type": "code",
   "execution_count": 9,
   "metadata": {
    "epilog": true,
    "mt_show_libdirs": true
   },
   "outputs": [
    {
     "name": "stdout",
     "output_type": "stream",
     "text": [
      "[]\n"
     ]
    }
   ],
   "source": [
    "\n",
    "%mt_show_libdirs\n",
    "\n"
   ]
  }
 ],
 "metadata": {
  "celltoolbar": "Tags",
  "kernelspec": {
   "display_name": "Python 3",
   "language": "python",
   "name": "python3"
  },
  "language_info": {
   "codemirror_mode": {
    "name": "ipython",
    "version": 3
   },
   "file_extension": ".py",
   "mimetype": "text/x-python",
   "name": "python",
   "nbconvert_exporter": "python",
   "pygments_lexer": "ipython3",
   "version": "3.6.9"
  }
 },
 "nbformat": 4,
 "nbformat_minor": 2
}
